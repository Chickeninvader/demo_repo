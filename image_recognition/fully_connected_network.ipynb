{
  "cells": [
    {
      "cell_type": "markdown",
      "metadata": {},
      "source": [
        "This program is currently combine processing image and training\n",
        "\"\"\"\n",
        "\n",
        "import numpy as np\n",
        "from brain import brain\n",
        "from forward_propagation import forward_propagation\n",
        "from check_accuracy import check_result\n",
        "from convert_image import convert_image\n",
        "from create_mini_batch import random_mini_batches\n",
        "\n",
        "\n",
        "train_cat = \"D:/anhbin/programming_python/demo_repo/deep_learning/dogvscat/train/cat/*.jpg\"\n",
        "train_dog = \"D:/anhbin/programming_python/demo_repo/deep_learning/dogvscat/train/dog/*.jpg\"\n",
        "test_cat = \"D:/anhbin/programming_python/demo_repo/deep_learning/dogvscat/test/cat/*.jpg\"\n",
        "test_dog = \"D:/anhbin/programming_python/demo_repo/deep_learning/dogvscat/test/dog/*.jpg\"\n",
        "dev_cat = \"D:/anhbin/programming_python/demo_repo/deep_learning/dogvscat/dev/cat/*.jpg\"\n",
        "dev_dog = \"D:/anhbin/programming_python/demo_repo/deep_learning/dogvscat/dev/dog/*.jpg\"\n",
        "\n",
        "\n",
        "def load_parameters(link):\n",
        "    parameters = np.ndarray.item(np.load(link, allow_pickle=\"True\"))\n",
        "    return parameters\n",
        "\n",
        "\n",
        "def training(train, dev):\n",
        "    dog_cat_train, label_train = convert_image(train)\n",
        "    dog_cat_dev, label_dev = convert_image(dev)\n",
        "    brain(dog_cat_train, label_train, dog_cat_dev, label_dev,\n",
        "          learning_rate=0.005, lambd=1, initialize_para=True, hidden_layer=[20,10])\n",
        "\n",
        "\n",
        "def predict(parameters, test):\n",
        "    dog_cat_test, outcome = convert_image(test)\n",
        "    A2, _ = forward_propagation(X=dog_cat_test, L=3, parameters=parameters)\n",
        "    print(\"accuracy of prediction: \", check_result(A2, Y=outcome), ' %')\n",
        "\n",
        "\n",
        "# training((train_cat, train_dog), (dev_cat, dev_dog))\n",
        "\n",
        "print(\"using test parameters:\")\n",
        "parameters = load_parameters(\"parameters_test.npy\")\n",
        "predict(parameters, (test_cat, test_dog))\n",
        "\n",
        "print(\"using dev parameters:\")\n",
        "parameters = load_parameters(\"parameters_dev.npy\")\n",
        "predict(parameters, (test_cat, test_dog))"
      ]
    }
  ],
  "metadata": {
    "anaconda-cloud": {},
    "kernelspec": {
      "display_name": "Python 3",
      "language": "python",
      "name": "python3"
    },
    "language_info": {
      "codemirror_mode": {
        "name": "ipython",
        "version": 3
      },
      "file_extension": ".py",
      "mimetype": "text/x-python",
      "name": "python",
      "nbconvert_exporter": "python",
      "pygments_lexer": "ipython3",
      "version": "3.6.1"
    }
  },
  "nbformat": 4,
  "nbformat_minor": 4
}