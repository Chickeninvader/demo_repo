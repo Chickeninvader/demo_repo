{
  "cells": [
    {
      "cell_type": "code",
      "metadata": {},
      "source": [
        "import numpy as np\n",
        "\n",
        "\n",
        "def layer_size(X, Y, L_i):\n",
        "    \"\"\"\n",
        "    Arguments:\n",
        "    X -- input dataset of shape (input size, number of examples)\n",
        "    Y -- labels of shape (output size, number of examples)\n",
        "    *L_i -- list of hidden unit in each hidden layers\n",
        "\n",
        "    Returns:\n",
        "    layers -- python dictionary contain number of hidden unit of each layers\n",
        "    L -- number of hidden layers\n",
        "    \"\"\"\n",
        "\n",
        "    L = 0\n",
        "    layers = {}\n",
        "    layers[\"n\"+str(L)] = X.shape[0]\n",
        "    L += 1\n",
        "    for i in L_i:\n",
        "        layers[\"n\"+str(L)] = i\n",
        "        L += 1\n",
        "    layers[\"n\"+str(L)] = Y.shape[0]\n",
        "    return layers, L\n",
        "\n",
        "\n"
      ],
      "outputs": [],
      "execution_count": null
    }
  ],
  "metadata": {
    "anaconda-cloud": {},
    "kernelspec": {
      "display_name": "Python 3",
      "language": "python",
      "name": "python3"
    },
    "language_info": {
      "codemirror_mode": {
        "name": "ipython",
        "version": 3
      },
      "file_extension": ".py",
      "mimetype": "text/x-python",
      "name": "python",
      "nbconvert_exporter": "python",
      "pygments_lexer": "ipython3",
      "version": "3.6.1"
    }
  },
  "nbformat": 4,
  "nbformat_minor": 4
}