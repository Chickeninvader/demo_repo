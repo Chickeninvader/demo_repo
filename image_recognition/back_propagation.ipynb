{
  "cells": [
    {
      "cell_type": "code",
      "execution_count": 1,
      "metadata": {},
      "outputs": [],
      "source": [
        "import numpy as np\n",
        "\n",
        "from activate_and_derivative import derivative_relu, derivative_tanh\n",
        "\n"
      ]
    },
    {
      "cell_type": "code",
      "execution_count": 2,
      "metadata": {},
      "outputs": [],
      "source": [
        "def back_propagation(parameters, cache, X, Y, L):\n",
        "    \"\"\"\n",
        "    Arguments:\n",
        "    parameters -- python dictionary containing our parameters \n",
        "    cache -- a dictionary containing A[i].\n",
        "    X -- input data of shape (size_of_picture*3, number of examples)\n",
        "    Y -- \"true\" labels vector of shape (1, number of examples)\n",
        "    L -- number of hidden layer\n",
        "\n",
        "    Returns:\n",
        "    grads -- python dictionary containing your gradients with respect to different parameters\n",
        "    \"\"\"\n",
        "    m = X.shape[1]\n",
        "    W = {}\n",
        "    A = {}\n",
        "    dZ = {}\n",
        "    dW = {}\n",
        "    db = {}\n",
        "    grads = {}\n",
        "\n",
        "    for i in range(1, L+1):\n",
        "        W[i] = parameters[\"W\" + str(i)]\n",
        "        A[i] = cache[\"A\" + str(i)]\n",
        "\n",
        "    A[0] = cache[\"A0\"]\n",
        "    dZ[L] = A[L] - Y\n",
        "    dW[L] = np.dot(dZ[L], A[L-1].T) / m\n",
        "    db[L] = np.sum(dZ[L], axis=1, keepdims=True) / m\n",
        "\n",
        "    for i in reversed(range(1,L)):\n",
        "        dZ[i] = np.dot(W[i+1].T, dZ[i+1]) * derivative_tanh(A[i])\n",
        "        dW[i] = np.dot(dZ[i], A[i-1].T) / m\n",
        "        db[i] = np.sum(dZ[i], axis=1, keepdims=True) /m\n",
        "    \n",
        "    for i in range(1,L+1):\n",
        "        \n",
        "        grads[\"dW\" + str(i)] = dW[i]\n",
        "        grads[\"db\" + str(i)] = db[i]\n",
        "        \n",
        "    return grads\n",
        "    \n",
        "\n"
      ]
    },
    {
      "cell_type": "code",
      "execution_count": null,
      "metadata": {},
      "outputs": [],
      "source": []
    }
  ],
  "metadata": {
    "anaconda-cloud": {},
    "kernelspec": {
      "display_name": "Python 3",
      "language": "python",
      "name": "python3"
    },
    "language_info": {
      "codemirror_mode": {
        "name": "ipython",
        "version": 3
      },
      "file_extension": ".py",
      "mimetype": "text/x-python",
      "name": "python",
      "nbconvert_exporter": "python",
      "pygments_lexer": "ipython3",
      "version": "3.9.7"
    }
  },
  "nbformat": 4,
  "nbformat_minor": 4
}
