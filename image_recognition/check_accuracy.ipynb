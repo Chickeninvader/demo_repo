{
  "cells": [
    {
      "cell_type": "code",
      "metadata": {},
      "source": [
        "import numpy as np\n",
        "\n",
        "def check_result(A,Y):\n",
        "    \"\"\"\n",
        "    This function will calculate the accuracy of the machine\n",
        "    Argument: \n",
        "    A -- The sigmoid output of the second activation, of shape (1, number of examples)\n",
        "    Y -- \"true\" labels vector of shape (1, number of examples)\n",
        "\n",
        "    Return:\n",
        "    accuracy -- correct_predict/number_of_example\n",
        "    \"\"\"\n",
        "    result = np.reshape(A-Y, (-1))\n",
        "    correct = 0\n",
        "    for i in range(len(result)):\n",
        "        if result[i]>-0.5 and result[i]<0.5:\n",
        "            correct = correct+1\n",
        "    accuracy = (correct / Y.shape[1])*100\n",
        "    accuracy = np.round(accuracy, 3)\n",
        "    return accuracy\n",
        "\n",
        "\n",
        "\n",
        "\n"
      ],
      "outputs": [],
      "execution_count": null
    }
  ],
  "metadata": {
    "anaconda-cloud": {},
    "kernelspec": {
      "display_name": "Python 3",
      "language": "python",
      "name": "python3"
    },
    "language_info": {
      "codemirror_mode": {
        "name": "ipython",
        "version": 3
      },
      "file_extension": ".py",
      "mimetype": "text/x-python",
      "name": "python",
      "nbconvert_exporter": "python",
      "pygments_lexer": "ipython3",
      "version": "3.6.1"
    }
  },
  "nbformat": 4,
  "nbformat_minor": 4
}