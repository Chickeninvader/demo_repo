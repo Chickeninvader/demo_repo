{
  "cells": [
    {
      "cell_type": "code",
      "metadata": {},
      "source": [
        "import numpy as np\n",
        "from activate_and_derivative import relu, sigmoid,tanh\n",
        "\n",
        "\n",
        "def forward_propagation(X, L, parameters):\n",
        "    \"\"\"\n",
        "    Argument:\n",
        "    X -- input data of size (n_x, m)\n",
        "    L -- number of hidden layers\n",
        "    parameters -- python dictionary containing your parameters (output of initialization function)\n",
        "    \n",
        "    Returns:\n",
        "    A[L] -- The sigmoid output of the second activation (machine prediction)\n",
        "    cache -- a dictionary containing Z[i] and A[i]\n",
        "    \"\"\"\n",
        "    cache = {}\n",
        "    W = {}\n",
        "    b = {}\n",
        "    Z = {}\n",
        "    A = {}\n",
        "    A[0] = X\n",
        "\n",
        "    # initialize\n",
        "    for i in range(1,L+1):\n",
        "        W[i] = parameters[\"W\" + str(i)]\n",
        "        b[i] = parameters[\"b\" + str(i)]\n",
        "\n",
        "    for i in range(1,L):\n",
        "        Z[i] = np.dot(W[i], A[i-1])+ b[i]\n",
        "        A[i] = tanh(Z[i])\n",
        "\n",
        "    Z[L] = np.dot(W[L], A[L-1])\n",
        "    A[L] = sigmoid(Z[L])\n",
        "\n",
        "    # save parameters\n",
        "    for i in range(L+1):\n",
        "        cache[\"A\" + str(i)] = A[i]\n",
        "\n",
        "    return A[L], cache\n",
        "\n",
        "\n",
        "\n"
      ],
      "outputs": [],
      "execution_count": null
    }
  ],
  "metadata": {
    "anaconda-cloud": {},
    "kernelspec": {
      "display_name": "Python 3",
      "language": "python",
      "name": "python3"
    },
    "language_info": {
      "codemirror_mode": {
        "name": "ipython",
        "version": 3
      },
      "file_extension": ".py",
      "mimetype": "text/x-python",
      "name": "python",
      "nbconvert_exporter": "python",
      "pygments_lexer": "ipython3",
      "version": "3.6.1"
    }
  },
  "nbformat": 4,
  "nbformat_minor": 4
}