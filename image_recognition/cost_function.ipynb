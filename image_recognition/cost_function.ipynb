{
  "cells": [
    {
      "cell_type": "code",
      "metadata": {},
      "source": [
        "import numpy as np\n",
        "\n",
        "\n",
        "def cost_function(A2, Y, lambd, parameters, L):\n",
        "    \"\"\"\n",
        "    Arguments:\n",
        "    A2 -- The sigmoid output of the second activation, of shape (1, number of examples)\n",
        "    Y -- \"true\" labels vector of shape (1, number of examples)\n",
        "\n",
        "    Returns:\n",
        "    cost \n",
        "    (simply, we can use this variable to measure the performance of the machine)\n",
        "    \"\"\"\n",
        "    regularization_cost = 0\n",
        "    m = len(Y)\n",
        "    for i in range(1, L+1):\n",
        "        regularization_cost += np.sum(np.square(parameters['W' + str(i)]))\n",
        "\n",
        "    regularization_cost = regularization_cost*lambd / 2 / m\n",
        "    loss = np.sum(-(Y * np.log(A2) + (1 - Y) * np.log(1 - A2))) / m\n",
        "    cost = loss + regularization_cost\n",
        "    return(cost)\n"
      ],
      "outputs": [],
      "execution_count": null
    }
  ],
  "metadata": {
    "anaconda-cloud": {},
    "kernelspec": {
      "display_name": "Python 3",
      "language": "python",
      "name": "python3"
    },
    "language_info": {
      "codemirror_mode": {
        "name": "ipython",
        "version": 3
      },
      "file_extension": ".py",
      "mimetype": "text/x-python",
      "name": "python",
      "nbconvert_exporter": "python",
      "pygments_lexer": "ipython3",
      "version": "3.6.1"
    }
  },
  "nbformat": 4,
  "nbformat_minor": 4
}