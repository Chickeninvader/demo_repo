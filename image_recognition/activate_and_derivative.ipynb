{
  "cells": [
    {
      "cell_type": "code",
      "execution_count": 3,
      "metadata": {},
      "outputs": [],
      "source": [
        "from math import exp\n",
        "import numpy as np \n",
        "\n",
        "def sigmoid(Z):\n",
        "    A = 1/(1+np.exp(-Z))\n",
        "    return A\n",
        "\n",
        "def tanh(Z):\n",
        "    A = np.tanh(Z)\n",
        "    return A\n",
        "\n",
        "def relu(Z):\n",
        "    A = np.maximum(0,Z)\n",
        "    return A\n",
        "\n",
        "def softmax(Z):\n",
        "    m = len(Z)\n",
        "    element_sum = sum(exp(b) for b in Z)\n",
        "    A = [exp(b)/element_sum for b in Z]\n",
        "    A = np.array(A).reshape(1,m)\n",
        "    return A\n",
        "\n",
        "def derivative_sigmoid(A):\n",
        "    dZ = A(1-A)\n",
        "    return dZ\n",
        "\n",
        "def derivative_tanh(A):\n",
        "    dZ = 1 - np.power(A,2)\n",
        "    return dZ\n",
        "\n",
        "def derivative_relu(A):\n",
        "    dZ = np.where(A>0, 1,0)\n",
        "    return dZ\n",
        "    \n",
        "\n",
        "\n",
        "\n"
      ]
    },
    {
      "cell_type": "code",
      "execution_count": null,
      "metadata": {},
      "outputs": [],
      "source": []
    }
  ],
  "metadata": {
    "anaconda-cloud": {},
    "kernelspec": {
      "display_name": "Python 3",
      "language": "python",
      "name": "python3"
    },
    "language_info": {
      "codemirror_mode": {
        "name": "ipython",
        "version": 3
      },
      "file_extension": ".py",
      "mimetype": "text/x-python",
      "name": "python",
      "nbconvert_exporter": "python",
      "pygments_lexer": "ipython3",
      "version": "3.9.7"
    }
  },
  "nbformat": 4,
  "nbformat_minor": 4
}
